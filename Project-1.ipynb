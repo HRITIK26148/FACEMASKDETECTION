{
 "cells": [
  {
   "cell_type": "code",
   "execution_count": 191,
   "id": "7bd5af4d",
   "metadata": {},
   "outputs": [],
   "source": [
    "import tensorflow as tf\n",
    "from tensorflow import keras\n",
    "from tensorflow.keras import layers\n",
    "from tensorflow.keras import models\n",
    "from tensorflow.keras.preprocessing.image import img_to_array\n",
    "from sklearn.model_selection import train_test_split\n",
    "from tensorflow.keras.preprocessing.image import load_img\n",
    "from tensorflow.keras.applications.mobilenet_v2 import preprocess_input\n",
    "from imutils import paths\n",
    "import matplotlib.pyplot as plt\n",
    "import numpy as np\n",
    "import os\n",
    "from keras.callbacks import ModelCheckpoint"
   ]
  },
  {
   "cell_type": "code",
   "execution_count": 192,
   "id": "7232c278",
   "metadata": {},
   "outputs": [],
   "source": [
    "DIRECTORY = 'New folder'\n",
    "CATEGORIES = ['mask_weared_incorrect','with_mask','without_mask']\n",
    "\n",
    "data = []\n",
    "labels = []\n",
    "\n",
    "for category in CATEGORIES:\n",
    "    path = os.path.join(DIRECTORY, category)\n",
    "    for img in os.listdir(path):\n",
    "        img_path = os.path.join(path, img)\n",
    "        image = load_img(img_path, target_size=(128, 128))\n",
    "        image = img_to_array(image)\n",
    "        image = preprocess_input(image)\n",
    "\n",
    "        data.append(image)\n",
    "        labels.append(category)"
   ]
  },
  {
   "cell_type": "code",
   "execution_count": 193,
   "id": "952d4b70",
   "metadata": {},
   "outputs": [],
   "source": [
    "classes = ['mask weared incorrect','with mask','without mask']"
   ]
  },
  {
   "cell_type": "code",
   "execution_count": 194,
   "id": "b07fdbc1",
   "metadata": {},
   "outputs": [
    {
     "name": "stdout",
     "output_type": "stream",
     "text": [
      "(148,)\n"
     ]
    }
   ],
   "source": [
    "labels = np.array(labels)\n",
    "print(labels.shape)\n",
    "from sklearn.preprocessing import LabelEncoder\n",
    "le = LabelEncoder()\n",
    "labels = le.fit_transform(labels)\n",
    "\n",
    "data = np.array(data)/255.0"
   ]
  },
  {
   "cell_type": "code",
   "execution_count": 195,
   "id": "a23bfe06",
   "metadata": {},
   "outputs": [
    {
     "data": {
      "text/plain": [
       "array([0, 0, 0, 0, 0, 0, 0, 0, 0, 0, 0, 0, 0, 0, 0, 0, 0, 0, 0, 0, 0, 0,\n",
       "       0, 0, 0, 0, 0, 0, 0, 0, 0, 0, 0, 0, 0, 0, 0, 0, 0, 0, 0, 0, 0, 0,\n",
       "       0, 0, 0, 0, 1, 1, 1, 1, 1, 1, 1, 1, 1, 1, 1, 1, 1, 1, 1, 1, 1, 1,\n",
       "       1, 1, 1, 1, 1, 1, 1, 1, 1, 1, 1, 1, 1, 1, 1, 1, 1, 1, 1, 1, 1, 1,\n",
       "       1, 1, 1, 1, 1, 1, 1, 1, 1, 1, 2, 2, 2, 2, 2, 2, 2, 2, 2, 2, 2, 2,\n",
       "       2, 2, 2, 2, 2, 2, 2, 2, 2, 2, 2, 2, 2, 2, 2, 2, 2, 2, 2, 2, 2, 2,\n",
       "       2, 2, 2, 2, 2, 2, 2, 2, 2, 2, 2, 2, 2, 2, 2, 2], dtype=int64)"
      ]
     },
     "execution_count": 195,
     "metadata": {},
     "output_type": "execute_result"
    }
   ],
   "source": [
    "labels"
   ]
  },
  {
   "cell_type": "code",
   "execution_count": 196,
   "id": "2b115d91",
   "metadata": {},
   "outputs": [],
   "source": [
    "(trainX, testX, trainY, testY) = train_test_split(data, labels,test_size=0.20, stratify=labels, random_state=42)"
   ]
  },
  {
   "cell_type": "code",
   "execution_count": 197,
   "id": "aac7c8dc",
   "metadata": {},
   "outputs": [
    {
     "data": {
      "text/plain": [
       "array([0, 2, 1, 1, 0, 2, 2, 0, 2, 0, 1, 2, 0, 2, 1, 1, 0, 2, 0, 1, 1, 2,\n",
       "       0, 1, 0, 1, 1, 2, 1, 2, 1, 0, 1, 2, 2, 2, 2, 1, 0, 1, 0, 2, 0, 0,\n",
       "       2, 0, 0, 0, 0, 1, 2, 1, 0, 2, 1, 1, 0, 2, 0, 2, 2, 0, 1, 2, 2, 2,\n",
       "       1, 1, 2, 0, 1, 0, 1, 1, 2, 1, 2, 2, 0, 2, 1, 0, 2, 0, 2, 1, 1, 0,\n",
       "       1, 2, 0, 0, 2, 2, 2, 1, 2, 0, 2, 1, 2, 2, 0, 1, 1, 1, 1, 1, 0, 2,\n",
       "       1, 1, 0, 0, 0, 0, 1, 0], dtype=int64)"
      ]
     },
     "execution_count": 197,
     "metadata": {},
     "output_type": "execute_result"
    }
   ],
   "source": [
    "trainY"
   ]
  },
  {
   "cell_type": "code",
   "execution_count": 198,
   "id": "1ad52296",
   "metadata": {},
   "outputs": [
    {
     "data": {
      "text/plain": [
       "array([0, 2, 2, 0, 1, 1, 0, 1, 2, 0, 1, 2, 1, 1, 0, 0, 2, 2, 1, 2, 1, 0,\n",
       "       2, 0, 2, 2, 0, 1, 1, 0], dtype=int64)"
      ]
     },
     "execution_count": 198,
     "metadata": {},
     "output_type": "execute_result"
    }
   ],
   "source": [
    "testY"
   ]
  },
  {
   "cell_type": "code",
   "execution_count": 199,
   "id": "90dcb2e2",
   "metadata": {},
   "outputs": [],
   "source": [
    "cnn = models.Sequential([\n",
    "    layers.Conv2D(filters = 200 , kernel_size = (3,3) , activation = 'relu' , input_shape = (128, 128, 3)),\n",
    "    layers.MaxPooling2D((2,2)),\n",
    "    \n",
    "    layers.Conv2D(filters = 100 , kernel_size = (3,3) , activation = 'relu'),\n",
    "    layers.MaxPooling2D((2,2)),\n",
    "    \n",
    "    layers.Flatten(),\n",
    "    layers.Dense(50, activation = 'relu'),\n",
    "    layers.Dense(3, activation = 'softmax'),\n",
    "])"
   ]
  },
  {
   "cell_type": "code",
   "execution_count": 200,
   "id": "38d38b7f",
   "metadata": {},
   "outputs": [],
   "source": [
    "cnn.compile(optimizer = 'adam',\n",
    "              loss = 'sparse_categorical_crossentropy',\n",
    "              metrics = ['accuracy']\n",
    ")"
   ]
  },
  {
   "cell_type": "code",
   "execution_count": 201,
   "id": "bad97166",
   "metadata": {},
   "outputs": [
    {
     "name": "stdout",
     "output_type": "stream",
     "text": [
      "Epoch 1/20\n",
      "3/3 [==============================] - 15s 4s/step - loss: 1.1118 - accuracy: 0.3085 - val_loss: 1.0930 - val_accuracy: 0.4167\n",
      "INFO:tensorflow:Assets written to: model-001.model\\assets\n",
      "Epoch 2/20\n",
      "3/3 [==============================] - 10s 4s/step - loss: 1.0990 - accuracy: 0.3404 - val_loss: 1.0984 - val_accuracy: 0.2500\n",
      "Epoch 3/20\n",
      "3/3 [==============================] - 10s 4s/step - loss: 1.0941 - accuracy: 0.3617 - val_loss: 1.1043 - val_accuracy: 0.2500\n",
      "Epoch 4/20\n",
      "3/3 [==============================] - 10s 4s/step - loss: 1.0980 - accuracy: 0.3617 - val_loss: 1.1200 - val_accuracy: 0.2500\n",
      "Epoch 5/20\n",
      "3/3 [==============================] - 10s 4s/step - loss: 1.0879 - accuracy: 0.3617 - val_loss: 1.0959 - val_accuracy: 0.2500\n",
      "Epoch 6/20\n",
      "3/3 [==============================] - 10s 4s/step - loss: 1.0836 - accuracy: 0.3723 - val_loss: 1.0861 - val_accuracy: 0.3333\n",
      "INFO:tensorflow:Assets written to: model-006.model\\assets\n",
      "Epoch 7/20\n",
      "3/3 [==============================] - 10s 4s/step - loss: 1.0744 - accuracy: 0.3830 - val_loss: 1.0771 - val_accuracy: 0.2917\n",
      "INFO:tensorflow:Assets written to: model-007.model\\assets\n",
      "Epoch 8/20\n",
      "3/3 [==============================] - 10s 4s/step - loss: 1.0580 - accuracy: 0.4043 - val_loss: 1.0654 - val_accuracy: 0.3750\n",
      "INFO:tensorflow:Assets written to: model-008.model\\assets\n",
      "Epoch 9/20\n",
      "3/3 [==============================] - 10s 4s/step - loss: 1.0437 - accuracy: 0.4255 - val_loss: 1.0459 - val_accuracy: 0.3750\n",
      "INFO:tensorflow:Assets written to: model-009.model\\assets\n",
      "Epoch 10/20\n",
      "3/3 [==============================] - 10s 4s/step - loss: 1.0158 - accuracy: 0.4574 - val_loss: 1.0244 - val_accuracy: 0.4167\n",
      "INFO:tensorflow:Assets written to: model-010.model\\assets\n",
      "Epoch 11/20\n",
      "3/3 [==============================] - 10s 4s/step - loss: 0.9856 - accuracy: 0.5213 - val_loss: 0.9978 - val_accuracy: 0.4583\n",
      "INFO:tensorflow:Assets written to: model-011.model\\assets\n",
      "Epoch 12/20\n",
      "3/3 [==============================] - 10s 4s/step - loss: 0.9579 - accuracy: 0.5319 - val_loss: 0.9503 - val_accuracy: 0.4583\n",
      "INFO:tensorflow:Assets written to: model-012.model\\assets\n",
      "Epoch 13/20\n",
      "3/3 [==============================] - 10s 4s/step - loss: 0.9235 - accuracy: 0.5000 - val_loss: 0.9062 - val_accuracy: 0.4583\n",
      "INFO:tensorflow:Assets written to: model-013.model\\assets\n",
      "Epoch 14/20\n",
      "3/3 [==============================] - 10s 4s/step - loss: 0.8670 - accuracy: 0.6489 - val_loss: 0.8547 - val_accuracy: 0.6250\n",
      "INFO:tensorflow:Assets written to: model-014.model\\assets\n",
      "Epoch 15/20\n",
      "3/3 [==============================] - 10s 4s/step - loss: 0.8375 - accuracy: 0.6596 - val_loss: 0.8114 - val_accuracy: 0.6250\n",
      "INFO:tensorflow:Assets written to: model-015.model\\assets\n",
      "Epoch 16/20\n",
      "3/3 [==============================] - 10s 4s/step - loss: 0.7865 - accuracy: 0.6596 - val_loss: 0.7444 - val_accuracy: 0.6667\n",
      "INFO:tensorflow:Assets written to: model-016.model\\assets\n",
      "Epoch 17/20\n",
      "3/3 [==============================] - 10s 4s/step - loss: 0.7346 - accuracy: 0.7234 - val_loss: 0.6895 - val_accuracy: 0.7083\n",
      "INFO:tensorflow:Assets written to: model-017.model\\assets\n",
      "Epoch 18/20\n",
      "3/3 [==============================] - 10s 4s/step - loss: 0.6984 - accuracy: 0.6915 - val_loss: 0.7006 - val_accuracy: 0.7083\n",
      "Epoch 19/20\n",
      "3/3 [==============================] - 10s 4s/step - loss: 0.6573 - accuracy: 0.7128 - val_loss: 0.6630 - val_accuracy: 0.7083\n",
      "INFO:tensorflow:Assets written to: model-019.model\\assets\n",
      "Epoch 20/20\n",
      "3/3 [==============================] - 10s 4s/step - loss: 0.6211 - accuracy: 0.7234 - val_loss: 0.6820 - val_accuracy: 0.7083\n"
     ]
    }
   ],
   "source": [
    "checkpoint = ModelCheckpoint('model-{epoch:03d}.model',monitor='val_loss',verbose=0,save_best_only=True,mode='auto')\n",
    "history=cnn.fit(trainX,trainY,epochs=20,callbacks=[checkpoint],validation_split=0.2)"
   ]
  },
  {
   "cell_type": "code",
   "execution_count": 202,
   "id": "91de4234",
   "metadata": {},
   "outputs": [
    {
     "name": "stdout",
     "output_type": "stream",
     "text": [
      "1/1 [==============================] - 4s 4s/step - loss: 0.8444 - accuracy: 0.6667\n"
     ]
    },
    {
     "data": {
      "text/plain": [
       "[0.8443865180015564, 0.6666666865348816]"
      ]
     },
     "execution_count": 202,
     "metadata": {},
     "output_type": "execute_result"
    }
   ],
   "source": [
    "cnn.evaluate(testX , testY)"
   ]
  },
  {
   "cell_type": "code",
   "execution_count": 203,
   "id": "a1a895a5",
   "metadata": {},
   "outputs": [
    {
     "data": {
      "text/plain": [
       "0"
      ]
     },
     "execution_count": 203,
     "metadata": {},
     "output_type": "execute_result"
    }
   ],
   "source": [
    "y_pred = cnn.predict(testX)\n",
    "y_pred_label = [np.argmax(i) for i in y_pred]\n",
    "y_pred_label[0]"
   ]
  },
  {
   "cell_type": "code",
   "execution_count": 204,
   "id": "14b6af96",
   "metadata": {},
   "outputs": [
    {
     "data": {
      "text/plain": [
       "'mask weared incorrect'"
      ]
     },
     "execution_count": 204,
     "metadata": {},
     "output_type": "execute_result"
    }
   ],
   "source": [
    "classes[y_pred_label[0]]"
   ]
  },
  {
   "cell_type": "code",
   "execution_count": 205,
   "id": "34227187",
   "metadata": {},
   "outputs": [
    {
     "data": {
      "image/png": "[encoded data removed]",
      "text/plain": [
       "<Figure size 432x288 with 1 Axes>"
      ]
     },
     "metadata": {
      "needs_background": "light"
     },
     "output_type": "display_data"
    }
   ],
   "source": [
    "from matplotlib import pyplot as plt\n",
    "\n",
    "plt.plot(history.history['loss'],'r',label='training loss')\n",
    "plt.plot(history.history['val_loss'],label='validation loss')\n",
    "plt.xlabel('# epochs')\n",
    "plt.ylabel('loss')\n",
    "plt.legend()\n",
    "plt.show()"
   ]
  },
  {
   "cell_type": "code",
   "execution_count": 206,
   "id": "d48cfecd",
   "metadata": {},
   "outputs": [
    {
     "data": {
      "image/png": "[encoded data removed]",
      "text/plain": [
       "<Figure size 432x288 with 1 Axes>"
      ]
     },
     "metadata": {
      "needs_background": "light"
     },
     "output_type": "display_data"
    }
   ],
   "source": [
    "plt.plot(history.history['accuracy'],'r',label='training accuracy')\n",
    "plt.plot(history.history['val_accuracy'],label='validation accuracy')\n",
    "plt.xlabel('# epochs')\n",
    "plt.ylabel('accuracy')\n",
    "plt.legend()\n",
    "plt.show()"
   ]
  },
  {
   "cell_type": "code",
   "execution_count": null,
   "id": "2f50f5da",
   "metadata": {},
   "outputs": [],
   "source": []
  }
 ],
 "metadata": {
  "kernelspec": {
   "display_name": "Python 3",
   "language": "python",
   "name": "python3"
  },
  "language_info": {
   "codemirror_mode": {
    "name": "ipython",
    "version": 3
   },
   "file_extension": ".py",
   "mimetype": "text/x-python",
   "name": "python",
   "nbconvert_exporter": "python",
   "pygments_lexer": "ipython3",
   "version": "3.8.8"
  }
 },
 "nbformat": 4,
 "nbformat_minor": 5
}
