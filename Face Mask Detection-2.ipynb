{
 "cells": [
  {
   "cell_type": "code",
   "execution_count": 12,
   "id": "9c0bef28",
   "metadata": {},
   "outputs": [],
   "source": [
    "from keras.models import load_model\n",
    "import cv2\n",
    "import numpy as np"
   ]
  },
  {
   "cell_type": "code",
   "execution_count": 13,
   "id": "c4bb147e",
   "metadata": {},
   "outputs": [],
   "source": [
    "model = load_model('model-005.model')\n",
    "\n",
    "face_clsfr = cv2.CascadeClassifier(r'C:\\Users\\aakas\\ML_TACHER_NOTES\\haarcascade_frontalface_default.xml')\n",
    "\n",
    "source = cv2.VideoCapture(0)\n",
    "\n",
    "labels_dict={0 : 'WITHOUT MASK',\n",
    "             1 : 'WITH MASK',\n",
    "             2 : 'WEARING MASK INCORRECTLY',}\n",
    "color_dict={0 : (0,0,255),\n",
    "            1 : (0,0,255),\n",
    "            2 : (255,255,0),}"
   ]
  },
  {
   "cell_type": "code",
   "execution_count": null,
   "id": "2e557d89",
   "metadata": {},
   "outputs": [],
   "source": [
    "while(True):\n",
    "\n",
    "    ret,frame=source.read()\n",
    "    img = cv2.resize(frame,(224, 224))\n",
    "    faces=face_clsfr.detectMultiScale(img)\n",
    "\n",
    "    for (x,y,w,h) in faces:\n",
    "    \n",
    "        face_img=img[y:y+h,x:x+w]\n",
    "        resized=cv2.resize(face_img,(224, 224))\n",
    "        normalized=resized/255.0\n",
    "        reshaped=np.reshape(normalized,(1,224, 224,3))\n",
    "        result=model.predict(reshaped)\n",
    "\n",
    "        label=np.argmax(result,axis=1)[0]\n",
    "      \n",
    "        cv2.rectangle(img,(x,y),(x+w,y+h),color_dict[label],2)\n",
    "        cv2.rectangle(img,(x,y-40),(x+w,y),color_dict[label],-1)\n",
    "        cv2.putText(img, labels_dict[label], (x, y-10),cv2.FONT_HERSHEY_SIMPLEX,0.8,(255,255,255),2)\n",
    "        \n",
    "        \n",
    "    cv2.imshow('LIVE',img)\n",
    "    if cv2.waitKey(1) & 0xFF == ord('x'):\n",
    "        break\n",
    "\n",
    "        \n",
    "cv2.destroyAllWindows()\n",
    "source.release()"
   ]
  }
 ],
 "metadata": {
  "kernelspec": {
   "display_name": "Python 3",
   "language": "python",
   "name": "python3"
  },
  "language_info": {
   "codemirror_mode": {
    "name": "ipython",
    "version": 3
   },
   "file_extension": ".py",
   "mimetype": "text/x-python",
   "name": "python",
   "nbconvert_exporter": "python",
   "pygments_lexer": "ipython3",
   "version": "3.8.8"
  }
 },
 "nbformat": 4,
 "nbformat_minor": 5
}
