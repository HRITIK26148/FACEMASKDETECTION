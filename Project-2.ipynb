{
 "cells": [
  {
   "cell_type": "code",
   "execution_count": 23,
   "id": "778be494",
   "metadata": {},
   "outputs": [],
   "source": [
    "import tensorflow as tf\n",
    "from tensorflow import keras\n",
    "from tensorflow.keras import layers\n",
    "from tensorflow.keras import models\n",
    "from tensorflow.keras.preprocessing.image import img_to_array\n",
    "from sklearn.model_selection import train_test_split\n",
    "from tensorflow.keras.preprocessing.image import load_img\n",
    "from tensorflow.keras.applications.mobilenet_v2 import preprocess_input\n",
    "from imutils import paths\n",
    "import matplotlib.pyplot as plt\n",
    "import numpy as np\n",
    "import os\n",
    "from keras.callbacks import ModelCheckpoint"
   ]
  },
  {
   "cell_type": "code",
   "execution_count": 24,
   "id": "3d1bb2c5",
   "metadata": {},
   "outputs": [],
   "source": [
    "DIRECTORY = 'New folder'\n",
    "CATEGORIES = ['mask_weared_incorrect','with_mask','without_mask']\n",
    "\n",
    "data = []\n",
    "labels = []\n",
    "\n",
    "for category in CATEGORIES:\n",
    "    path = os.path.join(DIRECTORY, category)\n",
    "    for img in os.listdir(path):\n",
    "        img_path = os.path.join(path, img)\n",
    "        image = load_img(img_path, target_size=(128, 128))\n",
    "        image = img_to_array(image)\n",
    "        image = preprocess_input(image)\n",
    "\n",
    "        data.append(image)\n",
    "        labels.append(category)"
   ]
  },
  {
   "cell_type": "code",
   "execution_count": 14,
   "id": "3ae7ca32",
   "metadata": {},
   "outputs": [],
   "source": [
    "classes = ['mask weared incorrect','with mask','without mask']"
   ]
  },
  {
   "cell_type": "code",
   "execution_count": 3,
   "id": "9db940e3",
   "metadata": {},
   "outputs": [
    {
     "name": "stdout",
     "output_type": "stream",
     "text": [
      "(148,)\n"
     ]
    }
   ],
   "source": [
    "labels = np.array(labels)\n",
    "print(labels.shape)\n",
    "from sklearn.preprocessing import LabelEncoder\n",
    "le = LabelEncoder()\n",
    "labels = le.fit_transform(labels)\n",
    "\n",
    "data = np.array(data)/255.0"
   ]
  },
  {
   "cell_type": "code",
   "execution_count": 4,
   "id": "60f0f2bb",
   "metadata": {},
   "outputs": [],
   "source": [
    "(trainX, testX, trainY, testY) = train_test_split(data, labels,test_size=0.20, stratify=labels, random_state=42)"
   ]
  },
  {
   "cell_type": "code",
   "execution_count": 5,
   "id": "6e2e5c26",
   "metadata": {},
   "outputs": [
    {
     "data": {
      "text/plain": [
       "array([0, 2, 1, 1, 0, 2, 2, 0, 2, 0, 1, 2, 0, 2, 1, 1, 0, 2, 0, 1, 1, 2,\n",
       "       0, 1, 0, 1, 1, 2, 1, 2, 1, 0, 1, 2, 2, 2, 2, 1, 0, 1, 0, 2, 0, 0,\n",
       "       2, 0, 0, 0, 0, 1, 2, 1, 0, 2, 1, 1, 0, 2, 0, 2, 2, 0, 1, 2, 2, 2,\n",
       "       1, 1, 2, 0, 1, 0, 1, 1, 2, 1, 2, 2, 0, 2, 1, 0, 2, 0, 2, 1, 1, 0,\n",
       "       1, 2, 0, 0, 2, 2, 2, 1, 2, 0, 2, 1, 2, 2, 0, 1, 1, 1, 1, 1, 0, 2,\n",
       "       1, 1, 0, 0, 0, 0, 1, 0], dtype=int64)"
      ]
     },
     "execution_count": 5,
     "metadata": {},
     "output_type": "execute_result"
    }
   ],
   "source": [
    "trainY"
   ]
  },
  {
   "cell_type": "code",
   "execution_count": 6,
   "id": "b282b3b9",
   "metadata": {},
   "outputs": [],
   "source": [
    "ann = models.Sequential([\n",
    "    layers.Flatten(input_shape=(128,128,3)),\n",
    "    layers.Dense(100,activation='relu'),\n",
    "    layers.Dense(50,activation='relu'),\n",
    "    layers.Dense(3,activation='softmax'),\n",
    "\n",
    "])\n",
    "\n",
    "ann.compile(\n",
    "    optimizer = 'SGD',\n",
    "    loss = 'sparse_categorical_crossentropy',\n",
    "    metrics = ['accuracy']\n",
    ")"
   ]
  },
  {
   "cell_type": "code",
   "execution_count": 10,
   "id": "96682813",
   "metadata": {},
   "outputs": [
    {
     "name": "stdout",
     "output_type": "stream",
     "text": [
      "Epoch 1/20\n",
      "3/3 [==============================] - 1s 240ms/step - loss: 1.0982 - accuracy: 0.4149 - val_loss: 1.0984 - val_accuracy: 0.3750\n",
      "INFO:tensorflow:Assets written to: model-001.model\\assets\n",
      "Epoch 2/20\n",
      "3/3 [==============================] - 0s 66ms/step - loss: 1.0982 - accuracy: 0.4255 - val_loss: 1.0983 - val_accuracy: 0.2917\n",
      "INFO:tensorflow:Assets written to: model-002.model\\assets\n",
      "Epoch 3/20\n",
      "3/3 [==============================] - 0s 66ms/step - loss: 1.0976 - accuracy: 0.4149 - val_loss: 1.0983 - val_accuracy: 0.2917\n",
      "Epoch 4/20\n",
      "3/3 [==============================] - 0s 88ms/step - loss: 1.0972 - accuracy: 0.3723 - val_loss: 1.0983 - val_accuracy: 0.2500\n",
      "INFO:tensorflow:Assets written to: model-004.model\\assets\n",
      "Epoch 5/20\n",
      "3/3 [==============================] - 0s 71ms/step - loss: 1.0971 - accuracy: 0.3723 - val_loss: 1.0984 - val_accuracy: 0.2500\n",
      "Epoch 6/20\n",
      "3/3 [==============================] - 0s 89ms/step - loss: 1.0969 - accuracy: 0.3830 - val_loss: 1.0985 - val_accuracy: 0.2500\n",
      "Epoch 7/20\n",
      "3/3 [==============================] - 0s 86ms/step - loss: 1.0966 - accuracy: 0.3617 - val_loss: 1.0985 - val_accuracy: 0.2500\n",
      "Epoch 8/20\n",
      "3/3 [==============================] - 0s 88ms/step - loss: 1.0964 - accuracy: 0.3617 - val_loss: 1.0986 - val_accuracy: 0.2500\n",
      "Epoch 9/20\n",
      "3/3 [==============================] - 0s 75ms/step - loss: 1.0961 - accuracy: 0.3617 - val_loss: 1.0987 - val_accuracy: 0.2500\n",
      "Epoch 10/20\n",
      "3/3 [==============================] - 0s 80ms/step - loss: 1.0961 - accuracy: 0.3617 - val_loss: 1.0987 - val_accuracy: 0.2500\n",
      "Epoch 11/20\n",
      "3/3 [==============================] - 0s 94ms/step - loss: 1.0959 - accuracy: 0.3617 - val_loss: 1.0987 - val_accuracy: 0.2500\n",
      "Epoch 12/20\n",
      "3/3 [==============================] - 0s 90ms/step - loss: 1.0955 - accuracy: 0.3617 - val_loss: 1.0987 - val_accuracy: 0.2500\n",
      "Epoch 13/20\n",
      "3/3 [==============================] - 0s 65ms/step - loss: 1.0954 - accuracy: 0.3617 - val_loss: 1.0988 - val_accuracy: 0.2500\n",
      "Epoch 14/20\n",
      "3/3 [==============================] - 0s 67ms/step - loss: 1.0955 - accuracy: 0.3617 - val_loss: 1.0988 - val_accuracy: 0.2500\n",
      "Epoch 15/20\n",
      "3/3 [==============================] - 0s 73ms/step - loss: 1.0955 - accuracy: 0.3617 - val_loss: 1.0988 - val_accuracy: 0.2500\n",
      "Epoch 16/20\n",
      "3/3 [==============================] - 0s 86ms/step - loss: 1.0950 - accuracy: 0.3617 - val_loss: 1.0988 - val_accuracy: 0.2500\n",
      "Epoch 17/20\n",
      "3/3 [==============================] - 0s 76ms/step - loss: 1.0948 - accuracy: 0.3617 - val_loss: 1.0989 - val_accuracy: 0.2500\n",
      "Epoch 18/20\n",
      "3/3 [==============================] - 0s 79ms/step - loss: 1.0946 - accuracy: 0.3617 - val_loss: 1.0989 - val_accuracy: 0.2500\n",
      "Epoch 19/20\n",
      "3/3 [==============================] - 0s 86ms/step - loss: 1.0944 - accuracy: 0.3617 - val_loss: 1.0990 - val_accuracy: 0.2500\n",
      "Epoch 20/20\n",
      "3/3 [==============================] - 0s 75ms/step - loss: 1.0942 - accuracy: 0.3617 - val_loss: 1.0990 - val_accuracy: 0.2500\n"
     ]
    }
   ],
   "source": [
    "checkpoint_1 = ModelCheckpoint('model-{epoch:03d}.model',monitor='val_loss',verbose=0,save_best_only=True,mode='auto')\n",
    "history_1 = ann.fit(trainX,trainY,epochs=20,callbacks=[checkpoint_1],validation_split=0.2)"
   ]
  },
  {
   "cell_type": "code",
   "execution_count": 12,
   "id": "eef48220",
   "metadata": {},
   "outputs": [
    {
     "name": "stdout",
     "output_type": "stream",
     "text": [
      "1/1 [==============================] - 0s 89ms/step - loss: 1.0947 - accuracy: 0.3333\n"
     ]
    },
    {
     "data": {
      "text/plain": [
       "[1.0947437286376953, 0.3333333432674408]"
      ]
     },
     "execution_count": 12,
     "metadata": {},
     "output_type": "execute_result"
    }
   ],
   "source": [
    "ann.evaluate(testX , testY)"
   ]
  },
  {
   "cell_type": "code",
   "execution_count": 11,
   "id": "5bf9f56f",
   "metadata": {},
   "outputs": [
    {
     "data": {
      "text/plain": [
       "2"
      ]
     },
     "execution_count": 11,
     "metadata": {},
     "output_type": "execute_result"
    }
   ],
   "source": [
    "y_pred_1 = ann.predict(testX)\n",
    "y_pred_label_1 = [np.argmax(i) for i in y_pred_1]\n",
    "y_pred_label_1[4]"
   ]
  },
  {
   "cell_type": "code",
   "execution_count": 18,
   "id": "43b03415",
   "metadata": {},
   "outputs": [
    {
     "data": {
      "text/plain": [
       "'without mask'"
      ]
     },
     "execution_count": 18,
     "metadata": {},
     "output_type": "execute_result"
    }
   ],
   "source": [
    "classes[y_pred_label_1[4]]"
   ]
  },
  {
   "cell_type": "code",
   "execution_count": 21,
   "id": "b675ff3f",
   "metadata": {},
   "outputs": [
    {
     "data": {
      "image/png": "[encoded data removed]",
      "text/plain": [
       "<Figure size 432x288 with 1 Axes>"
      ]
     },
     "metadata": {
      "needs_background": "light"
     },
     "output_type": "display_data"
    }
   ],
   "source": [
    "from matplotlib import pyplot as plt\n",
    "\n",
    "plt.plot(history_1.history['loss'],'r',label='training loss')\n",
    "plt.plot(history_1.history['val_loss'],label='validation loss')\n",
    "plt.xlabel('# epochs')\n",
    "plt.ylabel('loss')\n",
    "plt.legend()\n",
    "plt.show()"
   ]
  },
  {
   "cell_type": "code",
   "execution_count": 25,
   "id": "d6c8f8e6",
   "metadata": {},
   "outputs": [
    {
     "data": {
      "image/png": "[encoded data removed]",
      "text/plain": [
       "<Figure size 432x288 with 1 Axes>"
      ]
     },
     "metadata": {
      "needs_background": "light"
     },
     "output_type": "display_data"
    }
   ],
   "source": [
    "plt.plot(history_1.history['accuracy'],'r',label='training accuracy')\n",
    "plt.plot(history_1.history['val_accuracy'],label='validation accuracy')\n",
    "plt.xlabel('# epochs')\n",
    "plt.ylabel('accuracy')\n",
    "plt.legend()\n",
    "plt.show()"
   ]
  }
 ],
 "metadata": {
  "kernelspec": {
   "display_name": "Python 3",
   "language": "python",
   "name": "python3"
  },
  "language_info": {
   "codemirror_mode": {
    "name": "ipython",
    "version": 3
   },
   "file_extension": ".py",
   "mimetype": "text/x-python",
   "name": "python",
   "nbconvert_exporter": "python",
   "pygments_lexer": "ipython3",
   "version": "3.8.8"
  }
 },
 "nbformat": 4,
 "nbformat_minor": 5
}
